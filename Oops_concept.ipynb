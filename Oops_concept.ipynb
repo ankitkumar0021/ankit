{
  "nbformat": 4,
  "nbformat_minor": 0,
  "metadata": {
    "colab": {
      "name": "Oops_concept.ipynb",
      "provenance": [],
      "authorship_tag": "ABX9TyMOPz7+KPeS/M4wlirSa18Y",
      "include_colab_link": true
    },
    "kernelspec": {
      "name": "python3",
      "display_name": "Python 3"
    },
    "language_info": {
      "name": "python"
    }
  },
  "cells": [
    {
      "cell_type": "markdown",
      "metadata": {
        "id": "view-in-github",
        "colab_type": "text"
      },
      "source": [
        "<a href=\"https://colab.research.google.com/github/ankitkumar0021/ankit/blob/master/Oops_concept.ipynb\" target=\"_parent\"><img src=\"https://colab.research.google.com/assets/colab-badge.svg\" alt=\"Open In Colab\"/></a>"
      ]
    },
    {
      "cell_type": "code",
      "execution_count": 1,
      "metadata": {
        "id": "QaL3I2ttHLwI"
      },
      "outputs": [],
      "source": [
        "#class and object"
      ]
    },
    {
      "cell_type": "code",
      "source": [
        "class Phone:\n",
        "  def make_call(self):\n",
        "    print('making a phone call')\n",
        "  def play_game(self):\n",
        "    print('playing a game')\n"
      ],
      "metadata": {
        "id": "l7qF49RmLrCk"
      },
      "execution_count": 9,
      "outputs": []
    },
    {
      "cell_type": "code",
      "source": [
        "p1=Phone()"
      ],
      "metadata": {
        "id": "4Ky9ZhwOL4Hb"
      },
      "execution_count": 11,
      "outputs": []
    },
    {
      "cell_type": "code",
      "source": [
        "p1.make_call()"
      ],
      "metadata": {
        "colab": {
          "base_uri": "https://localhost:8080/"
        },
        "id": "Am0Z5d2oMAPs",
        "outputId": "3c55342b-5128-42a1-ac47-7cefdaded80f"
      },
      "execution_count": 12,
      "outputs": [
        {
          "output_type": "stream",
          "name": "stdout",
          "text": [
            "making a phone call\n"
          ]
        }
      ]
    },
    {
      "cell_type": "code",
      "source": [
        "p1.play_game()"
      ],
      "metadata": {
        "colab": {
          "base_uri": "https://localhost:8080/"
        },
        "id": "mmDs1NGBMc3g",
        "outputId": "506695ed-41e4-4560-d2ba-2d2ef1751231"
      },
      "execution_count": 13,
      "outputs": [
        {
          "output_type": "stream",
          "name": "stdout",
          "text": [
            "playing a game\n"
          ]
        }
      ]
    },
    {
      "cell_type": "code",
      "source": [
        "class Phone:\n",
        "  def set_color(self,color):\n",
        "      self.color=color\n",
        "  def set_cost(self,cost):\n",
        "      self.cost=cost\n",
        "  def show_color(self):\n",
        "      return self.color\n",
        "  def show_cost(self):\n",
        "      return self.cost\n",
        "  def make_call(self):\n",
        "      print('making a phone call')\n",
        "  def play_game(self):\n",
        "      print('playing a game')"
      ],
      "metadata": {
        "id": "k0a-grQuMf3o"
      },
      "execution_count": 32,
      "outputs": []
    },
    {
      "cell_type": "code",
      "source": [
        "p2 = Phone()"
      ],
      "metadata": {
        "id": "bw9pD25UPFed"
      },
      "execution_count": 33,
      "outputs": []
    },
    {
      "cell_type": "code",
      "source": [
        "p2.set_color('blue')"
      ],
      "metadata": {
        "id": "6pf-0npbPM9L"
      },
      "execution_count": 34,
      "outputs": []
    },
    {
      "cell_type": "code",
      "source": [
        "p2.set_cost(5000)"
      ],
      "metadata": {
        "id": "Bui4bY5fPSSF"
      },
      "execution_count": 35,
      "outputs": []
    },
    {
      "cell_type": "code",
      "source": [
        "p2.show_color()"
      ],
      "metadata": {
        "colab": {
          "base_uri": "https://localhost:8080/",
          "height": 35
        },
        "id": "mbZH4IMkPp7n",
        "outputId": "b0be44a4-d2f5-424b-d991-4c072be99935"
      },
      "execution_count": 36,
      "outputs": [
        {
          "output_type": "execute_result",
          "data": {
            "text/plain": [
              "'blue'"
            ],
            "application/vnd.google.colaboratory.intrinsic+json": {
              "type": "string"
            }
          },
          "metadata": {},
          "execution_count": 36
        }
      ]
    },
    {
      "cell_type": "code",
      "source": [
        "p2.show_cost()"
      ],
      "metadata": {
        "colab": {
          "base_uri": "https://localhost:8080/"
        },
        "id": "bA2mBJTFPuxm",
        "outputId": "af07ee99-87a1-490d-b74c-3126a9095971"
      },
      "execution_count": 37,
      "outputs": [
        {
          "output_type": "execute_result",
          "data": {
            "text/plain": [
              "5000"
            ]
          },
          "metadata": {},
          "execution_count": 37
        }
      ]
    },
    {
      "cell_type": "code",
      "source": [
        "#constructor"
      ],
      "metadata": {
        "id": "zbHOeoe6Qi4D"
      },
      "execution_count": 41,
      "outputs": []
    },
    {
      "cell_type": "code",
      "source": [
        "class Employee:\n",
        "    def __init__(self,name,age,salary,gender):\n",
        "\n",
        "        self.name = name\n",
        "        self.age = age\n",
        "        self.salary = salary\n",
        "        self.gender = gender\n",
        "\n",
        "    def show_employee_details(self):\n",
        "        print('name of employee is',self.name)\n",
        "        print('age of employee is',self.age)\n",
        "        print('salary of employee is',self.salary)\n",
        "        print('gender of employee is',self.gender)"
      ],
      "metadata": {
        "id": "bJOHWSshTNWV"
      },
      "execution_count": 42,
      "outputs": []
    },
    {
      "cell_type": "code",
      "source": [
        "e1 = Employee('Ram' , 20 , 30000  , 'Male')"
      ],
      "metadata": {
        "id": "faqw2hynVgJ7"
      },
      "execution_count": 43,
      "outputs": []
    },
    {
      "cell_type": "code",
      "source": [
        "e1.show_employee_details()"
      ],
      "metadata": {
        "colab": {
          "base_uri": "https://localhost:8080/"
        },
        "id": "VynX2Ib3VxPt",
        "outputId": "1752bfd9-cf18-477b-a324-513a9106e1e9"
      },
      "execution_count": 44,
      "outputs": [
        {
          "output_type": "stream",
          "name": "stdout",
          "text": [
            "name of employee is Ram\n",
            "age of employee is 20\n",
            "salary of employee is 30000\n",
            "gender of employee is Male\n"
          ]
        }
      ]
    },
    {
      "cell_type": "code",
      "source": [
        "#Inheritence"
      ],
      "metadata": {
        "id": "qmt2EmYFXEwD"
      },
      "execution_count": 1,
      "outputs": []
    },
    {
      "cell_type": "code",
      "source": [
        "class Vehicle:\n",
        "    def __init__(self,mileage , cost):\n",
        "      self.mileage = mileage\n",
        "      self.cost = cost\n",
        "\n",
        "    def show_vehicle_details(self):\n",
        "      print('mileage of vehicle is' , self.mileage)\n",
        "      print('cost of vehicle is ' , self.cost)\n",
        "      print('I am a vehicle')"
      ],
      "metadata": {
        "id": "eeRKLFwFaCR0"
      },
      "execution_count": 2,
      "outputs": []
    },
    {
      "cell_type": "code",
      "source": [
        "v1 = Vehicle(60,50000)"
      ],
      "metadata": {
        "id": "2hTm4dCl5PQM"
      },
      "execution_count": 4,
      "outputs": []
    },
    {
      "cell_type": "code",
      "source": [
        "v1.show_vehicle_details()"
      ],
      "metadata": {
        "colab": {
          "base_uri": "https://localhost:8080/"
        },
        "id": "SAF1irn26C-j",
        "outputId": "2e51a211-21c0-4306-8d1a-51a0cc90e353"
      },
      "execution_count": 5,
      "outputs": [
        {
          "output_type": "stream",
          "name": "stdout",
          "text": [
            "mileage of vehicle is 60\n",
            "cost of vehicle is  50000\n",
            "I am a vehicle\n"
          ]
        }
      ]
    },
    {
      "cell_type": "code",
      "source": [
        "class Car(Vehicle):\n",
        "    def show_car_details(self):\n",
        "      print('I am a car')\n",
        "      print('I have speed of 200 kmph')\n"
      ],
      "metadata": {
        "id": "WGA9B7bS68bB"
      },
      "execution_count": 11,
      "outputs": []
    },
    {
      "cell_type": "code",
      "source": [
        "c1 = Car(20,40000)"
      ],
      "metadata": {
        "id": "S4RWfH3a72qA"
      },
      "execution_count": 12,
      "outputs": []
    },
    {
      "cell_type": "code",
      "source": [
        "c1.show_car_details()"
      ],
      "metadata": {
        "colab": {
          "base_uri": "https://localhost:8080/"
        },
        "id": "RKCsw0dE9ErR",
        "outputId": "707d182f-1bf3-415c-f5b5-b1a0170aebfb"
      },
      "execution_count": 13,
      "outputs": [
        {
          "output_type": "stream",
          "name": "stdout",
          "text": [
            "I am a car\n",
            "I have speed of 200 kmph\n"
          ]
        }
      ]
    },
    {
      "cell_type": "code",
      "source": [
        "c1.show_vehicle_details()"
      ],
      "metadata": {
        "colab": {
          "base_uri": "https://localhost:8080/"
        },
        "id": "GKxuyQ6u9Nx3",
        "outputId": "92bfc0dc-c365-4bc9-f471-6ff82927bd1d"
      },
      "execution_count": 14,
      "outputs": [
        {
          "output_type": "stream",
          "name": "stdout",
          "text": [
            "mileage of vehicle is 20\n",
            "cost of vehicle is  40000\n",
            "I am a vehicle\n"
          ]
        }
      ]
    },
    {
      "cell_type": "code",
      "source": [
        ""
      ],
      "metadata": {
        "id": "6kNPesbt90iw"
      },
      "execution_count": null,
      "outputs": []
    }
  ]
}