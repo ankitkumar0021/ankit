{
  "nbformat": 4,
  "nbformat_minor": 0,
  "metadata": {
    "colab": {
      "name": "Oops_concept.ipynb",
      "provenance": [],
      "authorship_tag": "ABX9TyNVbJ2133Y/5qL1JlqzAt/2",
      "include_colab_link": true
    },
    "kernelspec": {
      "name": "python3",
      "display_name": "Python 3"
    },
    "language_info": {
      "name": "python"
    }
  },
  "cells": [
    {
      "cell_type": "markdown",
      "metadata": {
        "id": "view-in-github",
        "colab_type": "text"
      },
      "source": [
        "<a href=\"https://colab.research.google.com/github/ankitkumar0021/ankit/blob/master/Inheritnce.ipynb\" target=\"_parent\"><img src=\"https://colab.research.google.com/assets/colab-badge.svg\" alt=\"Open In Colab\"/></a>"
      ]
    },
    {
      "cell_type": "code",
      "execution_count": null,
      "metadata": {
        "id": "QaL3I2ttHLwI"
      },
      "outputs": [],
      "source": [
        "#class and object"
      ]
    },
    {
      "cell_type": "code",
      "source": [
        "class Phone:\n",
        "  def make_call(self):\n",
        "    print('making a phone call')\n",
        "  def play_game(self):\n",
        "    print('playing a game')\n"
      ],
      "metadata": {
        "id": "l7qF49RmLrCk"
      },
      "execution_count": 13,
      "outputs": []
    },
    {
      "cell_type": "code",
      "source": [
        "p1=Phone()"
      ],
      "metadata": {
        "id": "4Ky9ZhwOL4Hb"
      },
      "execution_count": 14,
      "outputs": []
    },
    {
      "cell_type": "code",
      "source": [
        "p1.make_call()"
      ],
      "metadata": {
        "colab": {
          "base_uri": "https://localhost:8080/"
        },
        "id": "Am0Z5d2oMAPs",
        "outputId": "b027c481-5f8d-4903-8918-59e13e8375a8"
      },
      "execution_count": 15,
      "outputs": [
        {
          "output_type": "stream",
          "name": "stdout",
          "text": [
            "making a phone call\n"
          ]
        }
      ]
    },
    {
      "cell_type": "code",
      "source": [
        "p1.play_game()"
      ],
      "metadata": {
        "colab": {
          "base_uri": "https://localhost:8080/"
        },
        "id": "mmDs1NGBMc3g",
        "outputId": "76ef058a-e77a-4767-dc72-38f0ca7be981"
      },
      "execution_count": 16,
      "outputs": [
        {
          "output_type": "stream",
          "name": "stdout",
          "text": [
            "playing a game\n"
          ]
        }
      ]
    },
    {
      "cell_type": "code",
      "source": [
        "class Phone:\n",
        "  def set_color(self,color):\n",
        "      self.color=color\n",
        "  def set_cost(self,cost):\n",
        "      self.cost=cost\n",
        "  def show_color(self):\n",
        "      return self.color\n",
        "  def show_cost(self):\n",
        "      return self.cost\n",
        "  def make_call(self):\n",
        "      print('making a phone call')\n",
        "  def play_game(self):\n",
        "      print('playing a game')"
      ],
      "metadata": {
        "id": "k0a-grQuMf3o"
      },
      "execution_count": 17,
      "outputs": []
    },
    {
      "cell_type": "code",
      "source": [
        "p2 = Phone()"
      ],
      "metadata": {
        "id": "bw9pD25UPFed"
      },
      "execution_count": 18,
      "outputs": []
    },
    {
      "cell_type": "code",
      "source": [
        "p2.set_color('blue')"
      ],
      "metadata": {
        "id": "6pf-0npbPM9L"
      },
      "execution_count": 19,
      "outputs": []
    },
    {
      "cell_type": "code",
      "source": [
        "p2.set_cost(5000)"
      ],
      "metadata": {
        "id": "Bui4bY5fPSSF"
      },
      "execution_count": 20,
      "outputs": []
    },
    {
      "cell_type": "code",
      "source": [
        "p2.show_color()"
      ],
      "metadata": {
        "colab": {
          "base_uri": "https://localhost:8080/",
          "height": 35
        },
        "id": "mbZH4IMkPp7n",
        "outputId": "45083530-0584-4282-9816-a28390af3b40"
      },
      "execution_count": 21,
      "outputs": [
        {
          "output_type": "execute_result",
          "data": {
            "text/plain": [
              "'blue'"
            ],
            "application/vnd.google.colaboratory.intrinsic+json": {
              "type": "string"
            }
          },
          "metadata": {},
          "execution_count": 21
        }
      ]
    },
    {
      "cell_type": "code",
      "source": [
        "p2.show_cost()"
      ],
      "metadata": {
        "colab": {
          "base_uri": "https://localhost:8080/"
        },
        "id": "bA2mBJTFPuxm",
        "outputId": "e1576d4d-c959-4f8a-81a4-dbea35d734ba"
      },
      "execution_count": 22,
      "outputs": [
        {
          "output_type": "execute_result",
          "data": {
            "text/plain": [
              "5000"
            ]
          },
          "metadata": {},
          "execution_count": 22
        }
      ]
    },
    {
      "cell_type": "code",
      "source": [
        "#constructor"
      ],
      "metadata": {
        "id": "zbHOeoe6Qi4D"
      },
      "execution_count": 23,
      "outputs": []
    },
    {
      "cell_type": "code",
      "source": [
        "class Employee:\n",
        "    def __init__(self,name,age,salary,gender):\n",
        "\n",
        "        self.name = name\n",
        "        self.age = age\n",
        "        self.salary = salary\n",
        "        self.gender = gender\n",
        "\n",
        "    def show_employee_details(self):\n",
        "        print('name of employee is',self.name)\n",
        "        print('age of employee is',self.age)\n",
        "        print('salary of employee is',self.salary)\n",
        "        print('gender of employee is',self.gender)"
      ],
      "metadata": {
        "id": "bJOHWSshTNWV"
      },
      "execution_count": 24,
      "outputs": []
    },
    {
      "cell_type": "code",
      "source": [
        "e1 = Employee('Ram' , 20 , 30000  , 'Male')"
      ],
      "metadata": {
        "id": "faqw2hynVgJ7"
      },
      "execution_count": 25,
      "outputs": []
    },
    {
      "cell_type": "code",
      "source": [
        "e1.show_employee_details()"
      ],
      "metadata": {
        "colab": {
          "base_uri": "https://localhost:8080/"
        },
        "id": "VynX2Ib3VxPt",
        "outputId": "b040201b-03cf-43d8-c527-3e0d803ede26"
      },
      "execution_count": 26,
      "outputs": [
        {
          "output_type": "stream",
          "name": "stdout",
          "text": [
            "name of employee is Ram\n",
            "age of employee is 20\n",
            "salary of employee is 30000\n",
            "gender of employee is Male\n"
          ]
        }
      ]
    },
    {
      "cell_type": "code",
      "source": [
        "#Inheritence"
      ],
      "metadata": {
        "id": "qmt2EmYFXEwD"
      },
      "execution_count": 27,
      "outputs": []
    },
    {
      "cell_type": "code",
      "source": [
        "class Vehicle:\n",
        "    def __init__(self, mileage , cost):\n",
        "      self.mileage = mileage\n",
        "      self.cost = cost\n",
        "\n",
        "    def show_vehicle_details(self):\n",
        "      print('mileage of vehicle is' , self.mileage)\n",
        "      print('cost of vehicle is ' , self.cost)\n",
        "      print('I am a vehicle')"
      ],
      "metadata": {
        "id": "eeRKLFwFaCR0"
      },
      "execution_count": 28,
      "outputs": []
    },
    {
      "cell_type": "code",
      "source": [
        "v1 = Vehicle(60,50000)"
      ],
      "metadata": {
        "id": "2hTm4dCl5PQM"
      },
      "execution_count": 29,
      "outputs": []
    },
    {
      "cell_type": "code",
      "source": [
        "v1.show_vehicle_details()"
      ],
      "metadata": {
        "colab": {
          "base_uri": "https://localhost:8080/"
        },
        "id": "SAF1irn26C-j",
        "outputId": "d3064f8c-ca02-4a8b-a9a2-8e16cc36806e"
      },
      "execution_count": 30,
      "outputs": [
        {
          "output_type": "stream",
          "name": "stdout",
          "text": [
            "mileage of vehicle is 60\n",
            "cost of vehicle is  50000\n",
            "I am a vehicle\n"
          ]
        }
      ]
    },
    {
      "cell_type": "code",
      "source": [
        "class Car(Vehicle):\n",
        "    def show_car_details(self):\n",
        "      print('I am a car')\n",
        "      print('I have speed of 200 kmph')\n",
        "      print('i have MRF tyres')\n"
      ],
      "metadata": {
        "id": "WGA9B7bS68bB"
      },
      "execution_count": 31,
      "outputs": []
    },
    {
      "cell_type": "code",
      "source": [
        "c1 = Car(20,40000)"
      ],
      "metadata": {
        "id": "S4RWfH3a72qA"
      },
      "execution_count": 32,
      "outputs": []
    },
    {
      "cell_type": "code",
      "source": [
        "c1.show_car_details()"
      ],
      "metadata": {
        "colab": {
          "base_uri": "https://localhost:8080/"
        },
        "id": "RKCsw0dE9ErR",
        "outputId": "73853313-f3c2-4058-dd7e-e2e47d556fac"
      },
      "execution_count": 33,
      "outputs": [
        {
          "output_type": "stream",
          "name": "stdout",
          "text": [
            "I am a car\n",
            "I have speed of 200 kmph\n",
            "i have MRF tyres\n"
          ]
        }
      ]
    },
    {
      "cell_type": "code",
      "source": [
        "c1.show_vehicle_details()"
      ],
      "metadata": {
        "colab": {
          "base_uri": "https://localhost:8080/"
        },
        "id": "GKxuyQ6u9Nx3",
        "outputId": "04d5cc46-d4f1-4e40-f74b-7d4a4c665724"
      },
      "execution_count": 34,
      "outputs": [
        {
          "output_type": "stream",
          "name": "stdout",
          "text": [
            "mileage of vehicle is 20\n",
            "cost of vehicle is  40000\n",
            "I am a vehicle\n"
          ]
        }
      ]
    },
    {
      "cell_type": "code",
      "source": [
        "#over_riding init method"
      ],
      "metadata": {
        "id": "6kNPesbt90iw"
      },
      "execution_count": 35,
      "outputs": []
    },
    {
      "cell_type": "code",
      "source": [
        "class Car(Vehicle):\n",
        "  def __init__(self,mileage,cost,tyres,hp):\n",
        "    super().__init__(mileage,cost)\n",
        "    self.tyres = tyres\n",
        "    self.hp = hp\n",
        "\n",
        "  def show_car_details(self):\n",
        "    print('number of tyres in a car is ', self.tyres)\n",
        "    print('horse power of car is ', self.hp)\n"
      ],
      "metadata": {
        "id": "5FJJC0YmSISG"
      },
      "execution_count": 37,
      "outputs": []
    },
    {
      "cell_type": "code",
      "source": [
        "c1 = Car(40,50000,4,20)"
      ],
      "metadata": {
        "id": "kf_8yKJeTzrl"
      },
      "execution_count": 38,
      "outputs": []
    },
    {
      "cell_type": "code",
      "source": [
        "c1.show_car_details()"
      ],
      "metadata": {
        "colab": {
          "base_uri": "https://localhost:8080/"
        },
        "id": "m56sdP1bUCQj",
        "outputId": "99931ef1-4f4c-4431-f4be-800eb4698a69"
      },
      "execution_count": 39,
      "outputs": [
        {
          "output_type": "stream",
          "name": "stdout",
          "text": [
            "number of tyres in a car is  4\n",
            "horse power of car is  20\n"
          ]
        }
      ]
    },
    {
      "cell_type": "code",
      "source": [
        "#Multiple Inheritence\n",
        "class Parent1:\n",
        "  def assign_string_one(self,str1):\n",
        "    self.str1 = str1\n",
        "\n",
        "  def show_srting_one(self):\n",
        "    return self.str1\n"
      ],
      "metadata": {
        "id": "E0CpM11eU8d8"
      },
      "execution_count": 67,
      "outputs": []
    },
    {
      "cell_type": "code",
      "source": [
        "class Parent2:\n",
        "  def assign_string_two(self,str2):\n",
        "    self.str2 = str2\n",
        "\n",
        "  def show_srting_two(self):\n",
        "    return self.str2\n",
        "    "
      ],
      "metadata": {
        "id": "IeY-RipbW3mx"
      },
      "execution_count": 56,
      "outputs": []
    },
    {
      "cell_type": "code",
      "source": [
        "class Child(Parent1,Parent2):\n",
        "    def assign_string_three(self,str3): \n",
        "      self.str3 = str3 \n",
        "\n",
        "    def show_srting_three(self):\n",
        "      return self.str3"
      ],
      "metadata": {
        "id": "WMGGQVfzXA7e"
      },
      "execution_count": 68,
      "outputs": []
    },
    {
      "cell_type": "code",
      "source": [
        "my_child = Child()"
      ],
      "metadata": {
        "id": "jhd5uY1ZYJNX"
      },
      "execution_count": 69,
      "outputs": []
    },
    {
      "cell_type": "code",
      "source": [
        "my_child.assign_string_one('I am string of Parent1')"
      ],
      "metadata": {
        "id": "LOLizthqZmDc"
      },
      "execution_count": 70,
      "outputs": []
    },
    {
      "cell_type": "code",
      "source": [
        "\n",
        "my_child.assign_string_two('I am string of Parent2')"
      ],
      "metadata": {
        "id": "_98Cl8W5ZsB_"
      },
      "execution_count": 71,
      "outputs": []
    },
    {
      "cell_type": "code",
      "source": [
        "my_child.assign_string_three('I am string of Child')"
      ],
      "metadata": {
        "id": "pSahIEAkZ8eh"
      },
      "execution_count": 72,
      "outputs": []
    },
    {
      "cell_type": "code",
      "source": [
        "my_child.show_srting_one()"
      ],
      "metadata": {
        "colab": {
          "base_uri": "https://localhost:8080/",
          "height": 35
        },
        "id": "3pmdnkzXaILj",
        "outputId": "9eff6163-a10d-4905-c0a9-896238e605ce"
      },
      "execution_count": 73,
      "outputs": [
        {
          "output_type": "execute_result",
          "data": {
            "text/plain": [
              "'I am string of Parent1'"
            ],
            "application/vnd.google.colaboratory.intrinsic+json": {
              "type": "string"
            }
          },
          "metadata": {},
          "execution_count": 73
        }
      ]
    },
    {
      "cell_type": "code",
      "source": [
        "my_child.show_srting_two()"
      ],
      "metadata": {
        "colab": {
          "base_uri": "https://localhost:8080/",
          "height": 35
        },
        "id": "2U4ckRk6aMGm",
        "outputId": "0e1d97db-d2f5-4b18-d512-49a1115955b0"
      },
      "execution_count": 74,
      "outputs": [
        {
          "output_type": "execute_result",
          "data": {
            "text/plain": [
              "'I am string of Parent2'"
            ],
            "application/vnd.google.colaboratory.intrinsic+json": {
              "type": "string"
            }
          },
          "metadata": {},
          "execution_count": 74
        }
      ]
    },
    {
      "cell_type": "code",
      "source": [
        "my_child.show_srting_three()"
      ],
      "metadata": {
        "colab": {
          "base_uri": "https://localhost:8080/",
          "height": 35
        },
        "id": "_ag0i3_SaddL",
        "outputId": "93499beb-ab9d-4b77-b2f1-cb53b8cc2657"
      },
      "execution_count": 75,
      "outputs": [
        {
          "output_type": "execute_result",
          "data": {
            "text/plain": [
              "'I am string of Child'"
            ],
            "application/vnd.google.colaboratory.intrinsic+json": {
              "type": "string"
            }
          },
          "metadata": {},
          "execution_count": 75
        }
      ]
    },
    {
      "cell_type": "code",
      "source": [
        ""
      ],
      "metadata": {
        "id": "6C7YNPQDajDf"
      },
      "execution_count": 75,
      "outputs": []
    }
  ]
}