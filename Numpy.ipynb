{
  "nbformat": 4,
  "nbformat_minor": 0,
  "metadata": {
    "colab": {
      "name": "Python_Libraries.ipynb",
      "provenance": [],
      "authorship_tag": "ABX9TyMCX3roY7GQT4mcQJQicQrh",
      "include_colab_link": true
    },
    "kernelspec": {
      "name": "python3",
      "display_name": "Python 3"
    },
    "language_info": {
      "name": "python"
    }
  },
  "cells": [
    {
      "cell_type": "markdown",
      "metadata": {
        "id": "view-in-github",
        "colab_type": "text"
      },
      "source": [
        "<a href=\"https://colab.research.google.com/github/ankitkumar0021/ankit/blob/master/Numpy.ipynb\" target=\"_parent\"><img src=\"https://colab.research.google.com/assets/colab-badge.svg\" alt=\"Open In Colab\"/></a>"
      ]
    },
    {
      "cell_type": "code",
      "execution_count": 1,
      "metadata": {
        "id": "xLsyup9vfHpU"
      },
      "outputs": [],
      "source": [
        "#Libraries in python"
      ]
    },
    {
      "cell_type": "code",
      "source": [
        "#Numpy"
      ],
      "metadata": {
        "id": "qwAGs_ScfbD1"
      },
      "execution_count": 2,
      "outputs": []
    },
    {
      "cell_type": "code",
      "source": [
        "import numpy as np"
      ],
      "metadata": {
        "id": "maHxIyv6fdDx"
      },
      "execution_count": 3,
      "outputs": []
    },
    {
      "cell_type": "code",
      "source": [
        "a1 = np.array([2,4,5,6])\n",
        "a1"
      ],
      "metadata": {
        "colab": {
          "base_uri": "https://localhost:8080/"
        },
        "id": "c2c7lLZvlbpT",
        "outputId": "9708edae-e404-40ed-81dc-b4ba5b2c75b2"
      },
      "execution_count": 4,
      "outputs": [
        {
          "output_type": "execute_result",
          "data": {
            "text/plain": [
              "array([2, 4, 5, 6])"
            ]
          },
          "metadata": {},
          "execution_count": 4
        }
      ]
    },
    {
      "cell_type": "code",
      "source": [
        "a1 = np.array([[3,4,5],[5,6,7]])\n",
        "a1"
      ],
      "metadata": {
        "colab": {
          "base_uri": "https://localhost:8080/"
        },
        "id": "8rOJ8SeymIwo",
        "outputId": "d00f0492-2792-4257-9b5e-7f98e149060a"
      },
      "execution_count": 6,
      "outputs": [
        {
          "output_type": "execute_result",
          "data": {
            "text/plain": [
              "array([[3, 4, 5],\n",
              "       [5, 6, 7]])"
            ]
          },
          "metadata": {},
          "execution_count": 6
        }
      ]
    },
    {
      "cell_type": "code",
      "source": [
        "type(a1)"
      ],
      "metadata": {
        "colab": {
          "base_uri": "https://localhost:8080/"
        },
        "id": "iuauORITmV9S",
        "outputId": "556b7047-8c98-4833-eace-29b3d774f6b5"
      },
      "execution_count": 7,
      "outputs": [
        {
          "output_type": "execute_result",
          "data": {
            "text/plain": [
              "numpy.ndarray"
            ]
          },
          "metadata": {},
          "execution_count": 7
        }
      ]
    },
    {
      "cell_type": "code",
      "source": [
        "z1 = np.zeros((2,2))      #zeros method in numpy 2*2 array with zero entries\n",
        "z1"
      ],
      "metadata": {
        "colab": {
          "base_uri": "https://localhost:8080/"
        },
        "id": "YHSXb6LwmrZq",
        "outputId": "e3052340-c4b3-4292-c210-51b185ef447c"
      },
      "execution_count": 9,
      "outputs": [
        {
          "output_type": "execute_result",
          "data": {
            "text/plain": [
              "array([[0., 0.],\n",
              "       [0., 0.]])"
            ]
          },
          "metadata": {},
          "execution_count": 9
        }
      ]
    },
    {
      "cell_type": "code",
      "source": [
        "z2 = np.zeros((4,6))\n",
        "z2"
      ],
      "metadata": {
        "colab": {
          "base_uri": "https://localhost:8080/"
        },
        "id": "woT-eYPjnTHY",
        "outputId": "3c6d55b8-819c-41a2-bed0-eb3e25149d53"
      },
      "execution_count": 11,
      "outputs": [
        {
          "output_type": "execute_result",
          "data": {
            "text/plain": [
              "array([[0., 0., 0., 0., 0., 0.],\n",
              "       [0., 0., 0., 0., 0., 0.],\n",
              "       [0., 0., 0., 0., 0., 0.],\n",
              "       [0., 0., 0., 0., 0., 0.]])"
            ]
          },
          "metadata": {},
          "execution_count": 11
        }
      ]
    },
    {
      "cell_type": "code",
      "source": [
        "#For a specific number we use full method\n",
        "f1 = np.full((2,2),10)\n",
        "f1 "
      ],
      "metadata": {
        "colab": {
          "base_uri": "https://localhost:8080/"
        },
        "id": "RsmwiJ7Cndtk",
        "outputId": "da0d7f64-665c-439b-b48f-afaf839cef89"
      },
      "execution_count": 12,
      "outputs": [
        {
          "output_type": "execute_result",
          "data": {
            "text/plain": [
              "array([[10, 10],\n",
              "       [10, 10]])"
            ]
          },
          "metadata": {},
          "execution_count": 12
        }
      ]
    },
    {
      "cell_type": "code",
      "source": [
        "# a range method\n",
        "ar1 = np.arange(1,15)\n",
        "ar1\n",
        "#it does not include 15"
      ],
      "metadata": {
        "colab": {
          "base_uri": "https://localhost:8080/"
        },
        "id": "baF63aBsoZw7",
        "outputId": "ffa73bce-2526-4c8c-fb54-b5c6965233a3"
      },
      "execution_count": 15,
      "outputs": [
        {
          "output_type": "execute_result",
          "data": {
            "text/plain": [
              "array([ 1,  2,  3,  4,  5,  6,  7,  8,  9, 10, 11, 12, 13, 14])"
            ]
          },
          "metadata": {},
          "execution_count": 15
        }
      ]
    },
    {
      "cell_type": "code",
      "source": [
        "ar2 = np.arange(2,20,3)   # For giving a special gap \n",
        "ar2"
      ],
      "metadata": {
        "colab": {
          "base_uri": "https://localhost:8080/"
        },
        "id": "2iErVI4npCKJ",
        "outputId": "333dcded-7ec6-41ae-d6b5-3aaa80ababed"
      },
      "execution_count": 19,
      "outputs": [
        {
          "output_type": "execute_result",
          "data": {
            "text/plain": [
              "array([ 2,  5,  8, 11, 14, 17])"
            ]
          },
          "metadata": {},
          "execution_count": 19
        }
      ]
    },
    {
      "cell_type": "code",
      "source": [
        "# For taking the random integer number\n",
        "ri1 = np.random.randint(1,50,100)   # n is numbers of array's elements\n",
        "ri1"
      ],
      "metadata": {
        "colab": {
          "base_uri": "https://localhost:8080/"
        },
        "id": "NS69-0fopVV6",
        "outputId": "48772cc1-c541-4968-a512-4595a22802dd"
      },
      "execution_count": 27,
      "outputs": [
        {
          "output_type": "execute_result",
          "data": {
            "text/plain": [
              "array([27, 32, 46, 21, 47, 10, 44, 34,  6, 18, 35, 35, 39, 27, 37, 48, 24,\n",
              "       46, 16,  4,  2, 39, 37, 38, 44, 19, 35, 45, 36, 30, 21, 11, 43, 41,\n",
              "        8, 19, 20, 22, 42, 35, 17, 11,  5, 20,  3, 33, 15, 10, 23,  5,  4,\n",
              "       23, 12,  3,  9,  7, 19, 26, 27,  8, 35, 40, 32, 31, 10,  5, 46,  9,\n",
              "       28,  1, 21, 31, 39, 30, 41, 12, 24,  5, 29, 31, 35, 47, 30,  1, 42,\n",
              "       46, 46,  1, 30, 18, 15, 42, 10, 18, 12, 41, 24, 47, 13, 19])"
            ]
          },
          "metadata": {},
          "execution_count": 27
        }
      ]
    },
    {
      "cell_type": "code",
      "source": [
        "# shape of numpy array"
      ],
      "metadata": {
        "id": "_S2hB-D1qJ4W"
      },
      "execution_count": 28,
      "outputs": []
    },
    {
      "cell_type": "code",
      "source": [
        "s1 = np.array([[1,2,3,4],[4,3,2,1]])\n",
        "s1"
      ],
      "metadata": {
        "colab": {
          "base_uri": "https://localhost:8080/"
        },
        "id": "QDsHBVJVrYGe",
        "outputId": "2dfa353a-ea03-4003-b93a-413efe6e80af"
      },
      "execution_count": 29,
      "outputs": [
        {
          "output_type": "execute_result",
          "data": {
            "text/plain": [
              "array([[1, 2, 3, 4],\n",
              "       [4, 3, 2, 1]])"
            ]
          },
          "metadata": {},
          "execution_count": 29
        }
      ]
    },
    {
      "cell_type": "code",
      "source": [
        "s1.shape = (4,2)\n",
        "s1\n"
      ],
      "metadata": {
        "colab": {
          "base_uri": "https://localhost:8080/"
        },
        "id": "_pExFezysKzd",
        "outputId": "6fbdd259-e52d-4bf1-f549-13296f1f2899"
      },
      "execution_count": 38,
      "outputs": [
        {
          "output_type": "execute_result",
          "data": {
            "text/plain": [
              "array([[1, 2],\n",
              "       [3, 4],\n",
              "       [4, 3],\n",
              "       [2, 1]])"
            ]
          },
          "metadata": {},
          "execution_count": 38
        }
      ]
    },
    {
      "cell_type": "code",
      "source": [
        "# Joining of two arrays"
      ],
      "metadata": {
        "id": "II7ONOoCsTqQ"
      },
      "execution_count": 39,
      "outputs": []
    },
    {
      "cell_type": "code",
      "source": [
        "#vetically Stack\n",
        "v1 = np.array([1,2,3,4])\n",
        "v2 = np.array([1,2,3,4])\n",
        "v3 = np.array([1,2,3,4])\n",
        "\n",
        "np.vstack((v1,v2,v3))\n"
      ],
      "metadata": {
        "colab": {
          "base_uri": "https://localhost:8080/"
        },
        "id": "Uex8WJc1saq9",
        "outputId": "3fa9b704-75f1-405f-895e-1cedb9423a23"
      },
      "execution_count": 44,
      "outputs": [
        {
          "output_type": "execute_result",
          "data": {
            "text/plain": [
              "array([[1, 2, 3, 4],\n",
              "       [1, 2, 3, 4],\n",
              "       [1, 2, 3, 4]])"
            ]
          },
          "metadata": {},
          "execution_count": 44
        }
      ]
    },
    {
      "cell_type": "code",
      "source": [
        "#Horizontally stack\n",
        "h1 = np.array([1,2,3,4])\n",
        "h2 = np.array([1,2,3,4])\n",
        "h3 = np.array([1,2,3,4])\n",
        "\n",
        "np.hstack((h1,h2,h3))"
      ],
      "metadata": {
        "colab": {
          "base_uri": "https://localhost:8080/"
        },
        "id": "U-GMM7IztZtw",
        "outputId": "d38431fb-fd44-485d-8607-75f68d3f645f"
      },
      "execution_count": 45,
      "outputs": [
        {
          "output_type": "execute_result",
          "data": {
            "text/plain": [
              "array([1, 2, 3, 4, 1, 2, 3, 4, 1, 2, 3, 4])"
            ]
          },
          "metadata": {},
          "execution_count": 45
        }
      ]
    },
    {
      "cell_type": "code",
      "source": [
        "#coloumn_stack\n",
        "cs1 = np.array([1,2,3,4])\n",
        "cs2 = np.array([1,2,3,4])\n",
        "cs3 = np.array([1,2,3,4])\n",
        "\n",
        "np.column_stack((cs1,cs2,cs3))"
      ],
      "metadata": {
        "colab": {
          "base_uri": "https://localhost:8080/"
        },
        "id": "0RVSKfEGuAhY",
        "outputId": "d1c5e638-a618-48cf-ece1-a542debe4e42"
      },
      "execution_count": 46,
      "outputs": [
        {
          "output_type": "execute_result",
          "data": {
            "text/plain": [
              "array([[1, 1, 1],\n",
              "       [2, 2, 2],\n",
              "       [3, 3, 3],\n",
              "       [4, 4, 4]])"
            ]
          },
          "metadata": {},
          "execution_count": 46
        }
      ]
    },
    {
      "cell_type": "code",
      "source": [
        "#Inresection and set difference\n",
        "n1 = np.array([1,2,3,4,5,6])\n",
        "n2 = np.array([3,4,5,6,7,8,9])\n",
        "np.intersect1d(n1,n2)"
      ],
      "metadata": {
        "colab": {
          "base_uri": "https://localhost:8080/"
        },
        "id": "heW8blBtuaTz",
        "outputId": "17758228-99a2-4ff4-ebff-b436cb68cf3a"
      },
      "execution_count": 49,
      "outputs": [
        {
          "output_type": "execute_result",
          "data": {
            "text/plain": [
              "array([3, 4, 5, 6])"
            ]
          },
          "metadata": {},
          "execution_count": 49
        }
      ]
    },
    {
      "cell_type": "code",
      "source": [
        "n1 = np.array([1,2,3,4,5,6])\n",
        "n2 = np.array([3,4,5,6,7,8,9])\n",
        "np.setdiff1d(n1,n2)"
      ],
      "metadata": {
        "colab": {
          "base_uri": "https://localhost:8080/"
        },
        "id": "5_nLCCAcvXqO",
        "outputId": "b939ee9a-2bf3-47e7-9e49-0904d1df5853"
      },
      "execution_count": 50,
      "outputs": [
        {
          "output_type": "execute_result",
          "data": {
            "text/plain": [
              "array([1, 2])"
            ]
          },
          "metadata": {},
          "execution_count": 50
        }
      ]
    },
    {
      "cell_type": "code",
      "source": [
        "n1 = np.array([1,2,3,4,5,6])\n",
        "n2 = np.array([3,4,5,6,7,8,9])\n",
        "np.setdiff1d(n2,n1)                           #reversing n1,n2"
      ],
      "metadata": {
        "colab": {
          "base_uri": "https://localhost:8080/"
        },
        "id": "IZ26jZvRvvMw",
        "outputId": "cbe223b9-9c6a-430b-9c58-a5588df6a3e0"
      },
      "execution_count": 51,
      "outputs": [
        {
          "output_type": "execute_result",
          "data": {
            "text/plain": [
              "array([7, 8, 9])"
            ]
          },
          "metadata": {},
          "execution_count": 51
        }
      ]
    },
    {
      "cell_type": "code",
      "source": [
        ""
      ],
      "metadata": {
        "id": "B3b6-HUhwYnr"
      },
      "execution_count": null,
      "outputs": []
    }
  ]
}